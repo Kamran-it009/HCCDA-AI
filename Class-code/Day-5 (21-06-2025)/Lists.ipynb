{
 "cells": [
  {
   "cell_type": "markdown",
   "id": "4d94f19b-e457-4278-b158-000dec47bf3a",
   "metadata": {},
   "source": [
    "# Lists"
   ]
  },
  {
   "cell_type": "code",
   "execution_count": 6,
   "id": "c55b2a14-cb04-47de-bc5c-87f96cbea61e",
   "metadata": {},
   "outputs": [
    {
     "name": "stdout",
     "output_type": "stream",
     "text": [
      "['apple', 'banana', 'cherry', 'mango']\n"
     ]
    }
   ],
   "source": [
    "fruits = ['apple', 'banana', 'cherry', 'mango']\n",
    "print(fruits)"
   ]
  },
  {
   "cell_type": "code",
   "execution_count": 7,
   "id": "5512d50f-4387-4d42-b2d8-eea4e9df1a73",
   "metadata": {},
   "outputs": [
    {
     "data": {
      "text/plain": [
       "'cherry'"
      ]
     },
     "execution_count": 7,
     "metadata": {},
     "output_type": "execute_result"
    }
   ],
   "source": [
    "fruits[2]"
   ]
  },
  {
   "cell_type": "markdown",
   "id": "6e136ccc-52be-48ea-a58c-7949e6778b99",
   "metadata": {},
   "source": [
    "# String Handling"
   ]
  },
  {
   "cell_type": "code",
   "execution_count": 8,
   "id": "60dff8d6-f4a9-47c4-96be-7e3b8f61e3b7",
   "metadata": {},
   "outputs": [
    {
     "name": "stdout",
     "output_type": "stream",
     "text": [
      "Muhammad Kamran Khan\n"
     ]
    }
   ],
   "source": [
    "name = 'Muhammad Kamran Khan'\n",
    "print(name)"
   ]
  },
  {
   "cell_type": "code",
   "execution_count": 9,
   "id": "0c21d560-b4eb-435f-bec8-6fe23f427979",
   "metadata": {},
   "outputs": [
    {
     "data": {
      "text/plain": [
       "'K'"
      ]
     },
     "execution_count": 9,
     "metadata": {},
     "output_type": "execute_result"
    }
   ],
   "source": [
    "name[9]"
   ]
  },
  {
   "cell_type": "code",
   "execution_count": 10,
   "id": "efdafdef-1e15-469e-af8e-f407f5903c90",
   "metadata": {},
   "outputs": [
    {
     "data": {
      "text/plain": [
       "'K'"
      ]
     },
     "execution_count": 10,
     "metadata": {},
     "output_type": "execute_result"
    }
   ],
   "source": [
    "name[-4]"
   ]
  },
  {
   "cell_type": "code",
   "execution_count": 13,
   "id": "78ea2853-4688-4e1a-a17f-26449b8e78d7",
   "metadata": {},
   "outputs": [
    {
     "name": "stdout",
     "output_type": "stream",
     "text": [
      "ma a\n"
     ]
    }
   ],
   "source": [
    "# Case no: 1\n",
    "print(name[4:12:2])"
   ]
  },
  {
   "cell_type": "code",
   "execution_count": 14,
   "id": "c9bb0746-1dbc-4070-a8ed-a7868503ab07",
   "metadata": {},
   "outputs": [
    {
     "name": "stdout",
     "output_type": "stream",
     "text": [
      "<class 'str'>\n",
      "<class 'int'>\n",
      "<class 'int'>\n",
      "<class 'bool'>\n",
      "<class 'float'>\n"
     ]
    }
   ],
   "source": [
    "name = 'ABC'\n",
    "x = 10\n",
    "y = 20\n",
    "disable = True\n",
    "height = 5.4\n",
    "\n",
    "print(type(name))\n",
    "print(type(x))\n",
    "print(type(y))\n",
    "print(type(disable))\n",
    "print(type(height))\n"
   ]
  },
  {
   "cell_type": "code",
   "execution_count": 20,
   "id": "a23b6a50-53bd-4cc8-ba61-436f5f1629c1",
   "metadata": {},
   "outputs": [],
   "source": [
    "class Person:\n",
    "    name = 'Ali'\n",
    "    age = 45\n",
    "\n",
    "p1 = Person()"
   ]
  },
  {
   "cell_type": "code",
   "execution_count": 28,
   "id": "42d5466d-5b73-4a54-b2eb-cc164d64765d",
   "metadata": {},
   "outputs": [
    {
     "data": {
      "text/plain": [
       "__main__.Person"
      ]
     },
     "execution_count": 28,
     "metadata": {},
     "output_type": "execute_result"
    }
   ],
   "source": [
    "p1.__class__"
   ]
  },
  {
   "cell_type": "code",
   "execution_count": 1,
   "id": "c92dcbdb-aa38-4b23-87b9-bcafa1ced097",
   "metadata": {},
   "outputs": [
    {
     "name": "stdout",
     "output_type": "stream",
     "text": [
      "['apple', 'banana', 'cherry', 'mango', 'orange', 'almod', 'melon']\n"
     ]
    }
   ],
   "source": [
    "#Defining and printing\n",
    "fruits = ['apple', 'banana', 'cherry', 'mango', 'orange', 'almod', 'melon']\n",
    "print(fruits)"
   ]
  },
  {
   "cell_type": "code",
   "execution_count": 2,
   "id": "22300053-3330-412f-ae54-68c4dd48a655",
   "metadata": {},
   "outputs": [
    {
     "name": "stdout",
     "output_type": "stream",
     "text": [
      "[23, 34, 45, 56, 12]\n"
     ]
    }
   ],
   "source": [
    "ages = [23, 34, 45, 56, 12]\n",
    "print(ages)"
   ]
  },
  {
   "cell_type": "code",
   "execution_count": 3,
   "id": "4bde3948-4d7e-4f59-bf7b-447c3768ba50",
   "metadata": {},
   "outputs": [],
   "source": [
    "heights = [5.4, 5.7, 6.1, 5.1]"
   ]
  },
  {
   "cell_type": "code",
   "execution_count": 4,
   "id": "1257cba4-a1d3-452d-be07-cd848dd089c1",
   "metadata": {},
   "outputs": [
    {
     "data": {
      "text/plain": [
       "[5.4, 5.7, 6.1, 5.1]"
      ]
     },
     "execution_count": 4,
     "metadata": {},
     "output_type": "execute_result"
    }
   ],
   "source": [
    "heights"
   ]
  },
  {
   "cell_type": "code",
   "execution_count": 5,
   "id": "ebca6417-f436-4d3e-87d0-5e36ef04549a",
   "metadata": {},
   "outputs": [
    {
     "name": "stdout",
     "output_type": "stream",
     "text": [
      "[True, False, True]\n"
     ]
    }
   ],
   "source": [
    "disability = [True, False, True]\n",
    "print(disability)"
   ]
  },
  {
   "cell_type": "code",
   "execution_count": 6,
   "id": "a776ae0e-2820-48a0-a57b-2bc0f3ed8187",
   "metadata": {},
   "outputs": [
    {
     "name": "stdout",
     "output_type": "stream",
     "text": [
      "[5.4, 23, 'apple', True]\n"
     ]
    }
   ],
   "source": [
    "mixed = [5.4, 23, 'apple', True]\n",
    "print(mixed)\n"
   ]
  },
  {
   "cell_type": "code",
   "execution_count": 9,
   "id": "81870b80-b011-41a3-ae5d-9a501e0f9ef4",
   "metadata": {},
   "outputs": [
    {
     "name": "stdout",
     "output_type": "stream",
     "text": [
      "['apple', 'banana', 'cherry', 'mango', 'orange', 'almond', 'melon']\n"
     ]
    }
   ],
   "source": [
    "#Defining and printing\n",
    "fruits = ['apple', 'banana', 'cherry', 'mango', 'orange', 'almond', 'melon']\n",
    "print(fruits)"
   ]
  },
  {
   "cell_type": "code",
   "execution_count": 10,
   "id": "e4f2effd-1507-4a38-867a-1a3100f58588",
   "metadata": {},
   "outputs": [
    {
     "data": {
      "text/plain": [
       "'cherry'"
      ]
     },
     "execution_count": 10,
     "metadata": {},
     "output_type": "execute_result"
    }
   ],
   "source": [
    "fruits[2]"
   ]
  },
  {
   "cell_type": "code",
   "execution_count": 13,
   "id": "b66ca962-3717-4e67-a6f5-1e7b433363ca",
   "metadata": {},
   "outputs": [],
   "source": [
    "value = fruits[-2]"
   ]
  },
  {
   "cell_type": "code",
   "execution_count": 14,
   "id": "d048c7c7-6445-416b-bd02-6c4737b21d10",
   "metadata": {},
   "outputs": [
    {
     "data": {
      "text/plain": [
       "'m'"
      ]
     },
     "execution_count": 14,
     "metadata": {},
     "output_type": "execute_result"
    }
   ],
   "source": [
    "value[2]"
   ]
  },
  {
   "cell_type": "code",
   "execution_count": 15,
   "id": "45564ad6-e64f-43e8-96ad-932beeffa168",
   "metadata": {},
   "outputs": [
    {
     "data": {
      "text/plain": [
       "['apple', 'cherry', 'orange', 'melon']"
      ]
     },
     "execution_count": 15,
     "metadata": {},
     "output_type": "execute_result"
    }
   ],
   "source": [
    "# Case no: 4\n",
    "fruits[0::2]"
   ]
  },
  {
   "cell_type": "code",
   "execution_count": 16,
   "id": "115b1b8f-48af-4acb-92e7-e4a83f97ef66",
   "metadata": {},
   "outputs": [
    {
     "name": "stdout",
     "output_type": "stream",
     "text": [
      "7\n"
     ]
    }
   ],
   "source": [
    "# end(default = length of list)\n",
    "fruits = ['apple', 'banana', 'cherry', 'mango', 'orange', 'almond', 'melon']\n",
    "print(len(fruits))"
   ]
  },
  {
   "cell_type": "code",
   "execution_count": 17,
   "id": "4e4dc694-7a26-4df7-ac08-07d890be797c",
   "metadata": {},
   "outputs": [
    {
     "data": {
      "text/plain": [
       "['apple', 'banana', 'cherry', 'mango', 'orange', 'almond', 'melon']"
      ]
     },
     "execution_count": 17,
     "metadata": {},
     "output_type": "execute_result"
    }
   ],
   "source": [
    "fruits[0:]"
   ]
  },
  {
   "cell_type": "code",
   "execution_count": 18,
   "id": "3bdd1d8a-8e7b-48d6-9034-47030f386973",
   "metadata": {},
   "outputs": [
    {
     "data": {
      "text/plain": [
       "[]"
      ]
     },
     "execution_count": 18,
     "metadata": {},
     "output_type": "execute_result"
    }
   ],
   "source": [
    "fruits[-2: -5]"
   ]
  },
  {
   "cell_type": "code",
   "execution_count": 19,
   "id": "cbe80102-6b00-4fd8-97a9-22a3b7821f88",
   "metadata": {},
   "outputs": [
    {
     "data": {
      "text/plain": [
       "['mango', 'orange', 'almond']"
      ]
     },
     "execution_count": 19,
     "metadata": {},
     "output_type": "execute_result"
    }
   ],
   "source": [
    "fruits[-4:-1]"
   ]
  },
  {
   "cell_type": "markdown",
   "id": "ce2e7e6a-ebc4-4c0b-911e-8a147185ea4d",
   "metadata": {},
   "source": [
    "### Updating list"
   ]
  },
  {
   "cell_type": "code",
   "execution_count": 20,
   "id": "3fd9f276-e6d6-4fe5-b667-999998b4a98b",
   "metadata": {},
   "outputs": [
    {
     "data": {
      "text/plain": [
       "['apple', 'banana', 'cherry', 'mango', 'orange', 'almond', 'melon']"
      ]
     },
     "execution_count": 20,
     "metadata": {},
     "output_type": "execute_result"
    }
   ],
   "source": [
    "fruits"
   ]
  },
  {
   "cell_type": "code",
   "execution_count": 21,
   "id": "ca5cfb97-7d4e-4f2f-b419-57ffdd4e9c6d",
   "metadata": {},
   "outputs": [],
   "source": [
    "fruits[-1] = 'watermelon'"
   ]
  },
  {
   "cell_type": "code",
   "execution_count": 22,
   "id": "2f6685ca-2dcd-48e5-ae2c-8cc54cdf9960",
   "metadata": {},
   "outputs": [
    {
     "data": {
      "text/plain": [
       "['apple', 'banana', 'cherry', 'mango', 'orange', 'almond', 'watermelon']"
      ]
     },
     "execution_count": 22,
     "metadata": {},
     "output_type": "execute_result"
    }
   ],
   "source": [
    "fruits"
   ]
  },
  {
   "cell_type": "code",
   "execution_count": 23,
   "id": "32bf3853-6c67-469c-b528-f3fb6978d544",
   "metadata": {},
   "outputs": [],
   "source": [
    "fruits.insert(3, 'melon')"
   ]
  },
  {
   "cell_type": "code",
   "execution_count": 24,
   "id": "f04aed16-f51c-4643-a461-e7f1fb537955",
   "metadata": {},
   "outputs": [
    {
     "data": {
      "text/plain": [
       "['apple',\n",
       " 'banana',\n",
       " 'cherry',\n",
       " 'melon',\n",
       " 'mango',\n",
       " 'orange',\n",
       " 'almond',\n",
       " 'watermelon']"
      ]
     },
     "execution_count": 24,
     "metadata": {},
     "output_type": "execute_result"
    }
   ],
   "source": [
    "fruits"
   ]
  },
  {
   "cell_type": "code",
   "execution_count": 25,
   "id": "d005e9c8-48fc-44aa-82f0-17e42e03be53",
   "metadata": {},
   "outputs": [
    {
     "data": {
      "text/plain": [
       "['apple',\n",
       " 'banana',\n",
       " 'cherry',\n",
       " 'melon',\n",
       " 'mango',\n",
       " 'orange',\n",
       " 'almond',\n",
       " 'watermelon',\n",
       " 'grapes']"
      ]
     },
     "execution_count": 25,
     "metadata": {},
     "output_type": "execute_result"
    }
   ],
   "source": [
    "fruits.append('grapes')\n",
    "fruits"
   ]
  },
  {
   "cell_type": "code",
   "execution_count": null,
   "id": "31cef0cc-3ff7-4563-8382-67391e9e319d",
   "metadata": {},
   "outputs": [],
   "source": []
  },
  {
   "cell_type": "code",
   "execution_count": 32,
   "id": "6c3bd0c7-34b7-4880-8f76-5781ad2c91df",
   "metadata": {},
   "outputs": [],
   "source": [
    "fruits[int(len(fruits)/2)] = 'stawberry'"
   ]
  },
  {
   "cell_type": "code",
   "execution_count": 33,
   "id": "3505ad9c-0055-4735-9bdb-6cbe1a59d7ea",
   "metadata": {},
   "outputs": [
    {
     "data": {
      "text/plain": [
       "['apple',\n",
       " 'banana',\n",
       " 'cherry',\n",
       " 'melon',\n",
       " 'stawberry',\n",
       " 'orange',\n",
       " 'almond',\n",
       " 'watermelon',\n",
       " 'grapes']"
      ]
     },
     "execution_count": 33,
     "metadata": {},
     "output_type": "execute_result"
    }
   ],
   "source": [
    "fruits"
   ]
  },
  {
   "cell_type": "code",
   "execution_count": 35,
   "id": "7b80bb87-48fe-4000-9b14-e6c2b9825b35",
   "metadata": {},
   "outputs": [],
   "source": [
    "index = int(len(fruits)/2)"
   ]
  },
  {
   "cell_type": "code",
   "execution_count": 36,
   "id": "cd1ecdc7-3035-4087-9429-9fa57d4f9596",
   "metadata": {},
   "outputs": [],
   "source": [
    "fruits.insert(index, 'illechee')"
   ]
  },
  {
   "cell_type": "code",
   "execution_count": 37,
   "id": "3677df9a-c056-4101-83d8-6081de7109bd",
   "metadata": {},
   "outputs": [
    {
     "data": {
      "text/plain": [
       "['apple',\n",
       " 'banana',\n",
       " 'cherry',\n",
       " 'melon',\n",
       " 'illechee',\n",
       " 'stawberry',\n",
       " 'orange',\n",
       " 'almond',\n",
       " 'watermelon',\n",
       " 'grapes']"
      ]
     },
     "execution_count": 37,
     "metadata": {},
     "output_type": "execute_result"
    }
   ],
   "source": [
    "fruits"
   ]
  },
  {
   "cell_type": "code",
   "execution_count": 40,
   "id": "e182752d-ef30-4461-bba8-181b47b58a9b",
   "metadata": {},
   "outputs": [
    {
     "name": "stdout",
     "output_type": "stream",
     "text": [
      "['apple', 'banana', 'cherry', 'melon', 'mango', 'orange', 'almod', 'melon']\n"
     ]
    }
   ],
   "source": [
    "fruits = ['apple', 'banana', 'cherry', 'melon', 'mango', 'orange', 'almod', 'melon']\n",
    "print(fruits)"
   ]
  },
  {
   "cell_type": "code",
   "execution_count": 39,
   "id": "a5fee660-746c-4d34-b922-9aadefdbc5ca",
   "metadata": {},
   "outputs": [
    {
     "name": "stdout",
     "output_type": "stream",
     "text": [
      "['apple', 'banana', 'grapes', 'stawberry', 'Guava', 'almod', 'melon']\n"
     ]
    }
   ],
   "source": [
    "#Second Update\n",
    "fruits[2: 5] = ['grapes', 'stawberry', 'Guava']\n",
    "print(fruits)"
   ]
  },
  {
   "cell_type": "code",
   "execution_count": 41,
   "id": "691e637c-8f52-4c34-a128-b9d73eb544b0",
   "metadata": {},
   "outputs": [
    {
     "name": "stdout",
     "output_type": "stream",
     "text": [
      "['apple', 'banana', 'cherry', 'mango', 'orange', 'almod', 'melon']\n"
     ]
    }
   ],
   "source": [
    "fruits.remove('melon')\n",
    "print(fruits)"
   ]
  },
  {
   "cell_type": "code",
   "execution_count": 42,
   "id": "55ae56dc-336b-4a7b-991e-7517252fd34a",
   "metadata": {},
   "outputs": [
    {
     "data": {
      "text/plain": [
       "'melon'"
      ]
     },
     "execution_count": 42,
     "metadata": {},
     "output_type": "execute_result"
    }
   ],
   "source": [
    "fruits.pop(-1)"
   ]
  },
  {
   "cell_type": "code",
   "execution_count": 43,
   "id": "9a0705ae-3782-48db-a127-b605dae925a6",
   "metadata": {},
   "outputs": [
    {
     "data": {
      "text/plain": [
       "['apple', 'banana', 'cherry', 'mango', 'orange', 'almod']"
      ]
     },
     "execution_count": 43,
     "metadata": {},
     "output_type": "execute_result"
    }
   ],
   "source": [
    "fruits"
   ]
  },
  {
   "cell_type": "code",
   "execution_count": 44,
   "id": "77f8e556-c887-4756-8f42-8dcad085bca1",
   "metadata": {},
   "outputs": [],
   "source": [
    "fruits.remove('banana')"
   ]
  },
  {
   "cell_type": "code",
   "execution_count": 45,
   "id": "542f00cc-990e-4cbc-b4e6-3d8f0f619d8c",
   "metadata": {},
   "outputs": [
    {
     "data": {
      "text/plain": [
       "'apple'"
      ]
     },
     "execution_count": 45,
     "metadata": {},
     "output_type": "execute_result"
    }
   ],
   "source": [
    "fruits.pop(0)"
   ]
  },
  {
   "cell_type": "code",
   "execution_count": 46,
   "id": "cfe9d3c4-8c31-4d7a-b5f7-aa6417fcb767",
   "metadata": {},
   "outputs": [
    {
     "name": "stdout",
     "output_type": "stream",
     "text": [
      "['apple', 'banana', 'cherry', 'melon', 'mango', 'orange', 'almod', 'melon']\n"
     ]
    }
   ],
   "source": [
    "fruits = ['apple', 'banana', 'cherry', 'melon', 'mango', 'orange', 'almod', 'melon']\n",
    "print(fruits)"
   ]
  },
  {
   "cell_type": "code",
   "execution_count": 47,
   "id": "1e608154-a47d-44ca-9517-52f390cfdd81",
   "metadata": {},
   "outputs": [
    {
     "name": "stdout",
     "output_type": "stream",
     "text": [
      "almod\n",
      "['apple', 'banana', 'cherry', 'melon', 'mango', 'orange', 'melon']\n"
     ]
    }
   ],
   "source": [
    "x = fruits.pop(-2)\n",
    "print(x)\n",
    "print(fruits)"
   ]
  },
  {
   "cell_type": "code",
   "execution_count": 48,
   "id": "94fb8caa-6493-437b-847c-d2db8472e1be",
   "metadata": {},
   "outputs": [],
   "source": [
    "fruits = ['apple', 'banana', 'cherry', 'mango', 'orange', 'almond', 'melon']"
   ]
  },
  {
   "cell_type": "code",
   "execution_count": 49,
   "id": "c1fba231-f338-4b2b-bc8e-ff82d249b08b",
   "metadata": {},
   "outputs": [],
   "source": [
    "original = fruits\n",
    "fruits.append('melon')"
   ]
  },
  {
   "cell_type": "code",
   "execution_count": 50,
   "id": "829e7f6d-bb11-42f8-a247-373196526c0c",
   "metadata": {},
   "outputs": [
    {
     "name": "stdout",
     "output_type": "stream",
     "text": [
      "['apple', 'banana', 'cherry', 'mango', 'orange', 'almond', 'melon', 'melon']\n"
     ]
    }
   ],
   "source": [
    "print(original)"
   ]
  },
  {
   "cell_type": "code",
   "execution_count": 52,
   "id": "510e4a0b-a61c-4253-9800-feb141a79725",
   "metadata": {},
   "outputs": [
    {
     "name": "stdout",
     "output_type": "stream",
     "text": [
      "Original: ['apple', 'banana', 'cherry', 'mango', 'orange', 'almond', 'melon', 'melon']\n",
      "Fruits: ['apple', 'banana', 'cherry', 'mango', 'orange', 'almond', 'melon']\n"
     ]
    }
   ],
   "source": [
    "original = fruits.copy()\n",
    "fruits.remove('melon')\n",
    "print('Original:', original)\n",
    "print('Fruits:', fruits)"
   ]
  },
  {
   "cell_type": "code",
   "execution_count": 55,
   "id": "5dde2a73-b2c6-4ab5-8f75-8462f4150948",
   "metadata": {},
   "outputs": [
    {
     "name": "stdout",
     "output_type": "stream",
     "text": [
      "140718345505240\n",
      "140718345505240\n",
      "True\n"
     ]
    }
   ],
   "source": [
    "x = 2\n",
    "y = 2\n",
    "print(id(x))\n",
    "print(id(y))\n",
    "print(x is y)"
   ]
  },
  {
   "cell_type": "code",
   "execution_count": 56,
   "id": "05612eaf-369d-4991-a46e-619c5a4af9df",
   "metadata": {},
   "outputs": [
    {
     "name": "stdout",
     "output_type": "stream",
     "text": [
      "140718345505240\n",
      "140718345505272\n",
      "False\n"
     ]
    }
   ],
   "source": [
    "y = 3\n",
    "print(id(x))\n",
    "print(id(y))\n",
    "print(x is y)"
   ]
  },
  {
   "cell_type": "code",
   "execution_count": 57,
   "id": "ed41e077-5f64-4c69-bbd6-477cab3ffdaf",
   "metadata": {},
   "outputs": [
    {
     "name": "stdout",
     "output_type": "stream",
     "text": [
      "140718345505304\n",
      "140718345505304\n"
     ]
    }
   ],
   "source": [
    "x = 3 + 1\n",
    "y = 2 + 2\n",
    "print(id(x))\n",
    "print(id(y))"
   ]
  },
  {
   "cell_type": "code",
   "execution_count": 58,
   "id": "f5b0f539-74d2-4ba3-9bb2-fc5073eee02b",
   "metadata": {},
   "outputs": [
    {
     "name": "stdout",
     "output_type": "stream",
     "text": [
      "1845829410000\n",
      "1845829411024\n",
      "False\n"
     ]
    }
   ],
   "source": [
    "x = 300\n",
    "y = 300\n",
    "print(id(x))\n",
    "print(id(y))\n",
    "print(x is y)"
   ]
  },
  {
   "cell_type": "code",
   "execution_count": 60,
   "id": "2a757354-fee6-46a4-8c5b-5293395b64cf",
   "metadata": {},
   "outputs": [
    {
     "name": "stdout",
     "output_type": "stream",
     "text": [
      "1845829411280\n",
      "1845829411248\n",
      "False\n"
     ]
    }
   ],
   "source": [
    "x = -10\n",
    "y = -10\n",
    "print(id(x))\n",
    "print(id(y))\n",
    "print(x is y)"
   ]
  },
  {
   "cell_type": "code",
   "execution_count": 61,
   "id": "8454e956-a976-4b98-aaf8-55e1aaba168e",
   "metadata": {},
   "outputs": [
    {
     "name": "stdout",
     "output_type": "stream",
     "text": [
      "-6\n"
     ]
    }
   ],
   "source": [
    "x = 5\n",
    "y = ~x\n",
    "print(y)"
   ]
  },
  {
   "cell_type": "code",
   "execution_count": 62,
   "id": "b74f8b4a-e226-4119-be28-d1e4cdb43eb9",
   "metadata": {},
   "outputs": [
    {
     "name": "stdout",
     "output_type": "stream",
     "text": [
      "[['apple', 'banana', 'cherry'], ['Brinjal', 'Potato', 'Radish']]\n"
     ]
    }
   ],
   "source": [
    "# 2D List\n",
    "fruits_veg = [['apple', 'banana', 'cherry'], ['Brinjal', 'Potato', 'Radish']]\n",
    "print(fruits_veg)"
   ]
  },
  {
   "cell_type": "code",
   "execution_count": 63,
   "id": "88e0e870-3e30-4cad-ac64-2b78df186a3b",
   "metadata": {},
   "outputs": [],
   "source": [
    "fruits_2d = ['apple', 'banana', ['mango', 'cherry'], 'grapes']"
   ]
  },
  {
   "cell_type": "code",
   "execution_count": 68,
   "id": "0288f055-9494-439a-a040-cb25b9bc770e",
   "metadata": {},
   "outputs": [
    {
     "data": {
      "text/plain": [
       "'o'"
      ]
     },
     "execution_count": 68,
     "metadata": {},
     "output_type": "execute_result"
    }
   ],
   "source": [
    "fruits_veg[1][1][1]"
   ]
  },
  {
   "cell_type": "code",
   "execution_count": 69,
   "id": "86844abd-c62f-4408-ab73-708311fb0caa",
   "metadata": {},
   "outputs": [],
   "source": [
    "fruits_veg.append(['carrot', 'cabbage'])"
   ]
  },
  {
   "cell_type": "code",
   "execution_count": 70,
   "id": "afb0ca09-55f4-4d50-a034-0e3937277719",
   "metadata": {},
   "outputs": [
    {
     "data": {
      "text/plain": [
       "[['apple', 'banana', 'cherry'],\n",
       " ['Brinjal', 'Potato', 'Radish'],\n",
       " ['carrot', 'cabbage']]"
      ]
     },
     "execution_count": 70,
     "metadata": {},
     "output_type": "execute_result"
    }
   ],
   "source": [
    "fruits_veg"
   ]
  },
  {
   "cell_type": "code",
   "execution_count": 71,
   "id": "0abbe3ac-aa7e-42a5-b482-8c2d5209fd68",
   "metadata": {},
   "outputs": [
    {
     "data": {
      "text/plain": [
       "['apple', 'banana', ['melon', 'cherry'], 'grapes']"
      ]
     },
     "execution_count": 71,
     "metadata": {},
     "output_type": "execute_result"
    }
   ],
   "source": [
    "fruits_2d[2][0] = 'melon'\n",
    "fruits_2d"
   ]
  },
  {
   "cell_type": "code",
   "execution_count": 72,
   "id": "bade9441-64b3-4bb3-ac0d-69dd35bdc564",
   "metadata": {},
   "outputs": [
    {
     "name": "stdout",
     "output_type": "stream",
     "text": [
      "{'A': 'apple', 'B': 'banana', 'C': 'cherry', 'D': 'Dragon fruits'}\n"
     ]
    }
   ],
   "source": [
    "# Creating a Dictionary\n",
    "fruits_dict = {'A': 'apple', 'B': 'banana', \n",
    "               'C': 'cherry', 'D': 'Dragon fruits'}\n",
    "print(fruits_dict)"
   ]
  },
  {
   "cell_type": "code",
   "execution_count": 74,
   "id": "d41bb79f-4956-4ee3-9be4-8603e38a8bf7",
   "metadata": {},
   "outputs": [
    {
     "data": {
      "text/plain": [
       "'banana'"
      ]
     },
     "execution_count": 74,
     "metadata": {},
     "output_type": "execute_result"
    }
   ],
   "source": [
    "fruits_dict['B']"
   ]
  },
  {
   "cell_type": "code",
   "execution_count": 79,
   "id": "81fd9b8e-8060-4e44-ae40-a4f27836c6c4",
   "metadata": {},
   "outputs": [],
   "source": [
    "# Dictionary Initialization\n",
    "students = {'Roll no': [101, 102, 103], 'Name': ['Ali', 'Ahmad', 'Amir']}"
   ]
  },
  {
   "cell_type": "code",
   "execution_count": 75,
   "id": "ac042526-1515-4de1-b012-43bca6cb3dff",
   "metadata": {},
   "outputs": [
    {
     "ename": "KeyError",
     "evalue": "1",
     "output_type": "error",
     "traceback": [
      "\u001b[31m---------------------------------------------------------------------------\u001b[39m",
      "\u001b[31mKeyError\u001b[39m                                  Traceback (most recent call last)",
      "\u001b[36mCell\u001b[39m\u001b[36m \u001b[39m\u001b[32mIn[75]\u001b[39m\u001b[32m, line 1\u001b[39m\n\u001b[32m----> \u001b[39m\u001b[32m1\u001b[39m \u001b[43mfruits_dict\u001b[49m\u001b[43m[\u001b[49m\u001b[32;43m1\u001b[39;49m\u001b[43m]\u001b[49m\n",
      "\u001b[31mKeyError\u001b[39m: 1"
     ]
    }
   ],
   "source": [
    "fruits_dict[1]"
   ]
  },
  {
   "cell_type": "code",
   "execution_count": 77,
   "id": "85ec43ba-a7fa-41df-bd25-aec9520a6825",
   "metadata": {},
   "outputs": [
    {
     "name": "stdout",
     "output_type": "stream",
     "text": [
      "{10: 'apple', 20: 'banana', 30: 'cherry', 'C': 'Dragon fruits'}\n"
     ]
    }
   ],
   "source": [
    "fruits_dict2 = {10: 'apple', 20: 'banana', \n",
    "               30: 'cherry', 'C': 'Dragon fruits'}\n",
    "print(fruits_dict2)"
   ]
  },
  {
   "cell_type": "code",
   "execution_count": 80,
   "id": "a0dfd677-9927-4d02-91f3-8b9c5e6af64a",
   "metadata": {},
   "outputs": [
    {
     "name": "stdout",
     "output_type": "stream",
     "text": [
      "['Ali', 'Ahmad']\n"
     ]
    }
   ],
   "source": [
    "# Slicing\n",
    "print(students['Name'][0:2])"
   ]
  },
  {
   "cell_type": "code",
   "execution_count": 81,
   "id": "f27bbd2f-5f0d-44df-93a0-f770dadd86d9",
   "metadata": {},
   "outputs": [],
   "source": [
    "students['Subject'] = ['OS', 'Data Structure', 'Cyber Security']"
   ]
  },
  {
   "cell_type": "code",
   "execution_count": 82,
   "id": "139b921a-01f7-4874-9057-e16cf9906ee2",
   "metadata": {},
   "outputs": [
    {
     "data": {
      "text/plain": [
       "{'Roll no': [101, 102, 103],\n",
       " 'Name': ['Ali', 'Ahmad', 'Amir'],\n",
       " 'Subject': ['OS', 'Data Structure', 'Cyber Security']}"
      ]
     },
     "execution_count": 82,
     "metadata": {},
     "output_type": "execute_result"
    }
   ],
   "source": [
    "students"
   ]
  },
  {
   "cell_type": "code",
   "execution_count": 83,
   "id": "9919a3e0-3169-496d-8187-635efce22d65",
   "metadata": {},
   "outputs": [
    {
     "data": {
      "text/plain": [
       "'banana'"
      ]
     },
     "execution_count": 83,
     "metadata": {},
     "output_type": "execute_result"
    }
   ],
   "source": [
    "fruits_dict.get('B')"
   ]
  },
  {
   "cell_type": "code",
   "execution_count": 8,
   "id": "6e2442b6-aae6-4edd-b3ce-d72f4b17b664",
   "metadata": {},
   "outputs": [],
   "source": [
    "# Dictionary Initialization\n",
    "students = {'Roll no': [101, 102, 103], 'Name': ['Ali', 'Ahmad', 'Amir']}"
   ]
  },
  {
   "cell_type": "code",
   "execution_count": 9,
   "id": "eb115e63-e45b-4026-b2a9-2cb84f64da89",
   "metadata": {},
   "outputs": [
    {
     "data": {
      "text/plain": [
       "dict_values([[101, 102, 103], ['Ali', 'Ahmad', 'Amir']])"
      ]
     },
     "execution_count": 9,
     "metadata": {},
     "output_type": "execute_result"
    }
   ],
   "source": [
    "students.values()"
   ]
  },
  {
   "cell_type": "code",
   "execution_count": 10,
   "id": "590b946c-5b2b-4ff0-958d-afb8da670362",
   "metadata": {},
   "outputs": [
    {
     "data": {
      "text/plain": [
       "{'Roll no': [101, 102, 103], 'Name': ['Ali', 'Ahmad', 'Amir']}"
      ]
     },
     "execution_count": 10,
     "metadata": {},
     "output_type": "execute_result"
    }
   ],
   "source": [
    "students"
   ]
  },
  {
   "cell_type": "code",
   "execution_count": 11,
   "id": "8ed94104-7551-40d2-be8a-8e33d2a18dc8",
   "metadata": {},
   "outputs": [
    {
     "data": {
      "text/plain": [
       "('Name', ['Ali', 'Ahmad', 'Amir'])"
      ]
     },
     "execution_count": 11,
     "metadata": {},
     "output_type": "execute_result"
    }
   ],
   "source": [
    "# Arbitrary POP\n",
    "students.popitem()"
   ]
  },
  {
   "cell_type": "code",
   "execution_count": 12,
   "id": "16cd0a68-9b4a-4681-bcdf-13f5505c8a92",
   "metadata": {},
   "outputs": [
    {
     "data": {
      "text/plain": [
       "{'Roll no': [101, 102, 103]}"
      ]
     },
     "execution_count": 12,
     "metadata": {},
     "output_type": "execute_result"
    }
   ],
   "source": [
    "students"
   ]
  },
  {
   "cell_type": "code",
   "execution_count": 17,
   "id": "c867d52f-73ef-455d-8dbc-5a12183849ef",
   "metadata": {},
   "outputs": [
    {
     "name": "stdout",
     "output_type": "stream",
     "text": [
      "{'watermelon', 'orange', 'grapes', 'apple', 'cherry', 'banana', 'melon'}\n"
     ]
    }
   ],
   "source": [
    "# Set Creation\n",
    "fruits = {'apple', 'banana', 'cherry', 'orange', 'melon', 'watermelon', 'grapes'}\n",
    "print(fruits)"
   ]
  },
  {
   "cell_type": "code",
   "execution_count": 18,
   "id": "4781dbba-9f51-4100-bd03-bcb0ec0b98bf",
   "metadata": {},
   "outputs": [
    {
     "data": {
      "text/plain": [
       "{'apple', 'banana', 'cherry', 'grapes', 'melon', 'orange', 'watermelon'}"
      ]
     },
     "execution_count": 18,
     "metadata": {},
     "output_type": "execute_result"
    }
   ],
   "source": [
    "fruits"
   ]
  },
  {
   "cell_type": "code",
   "execution_count": null,
   "id": "2fd2a330-3065-45ea-aaa6-ef6a0b9ed2a2",
   "metadata": {},
   "outputs": [],
   "source": []
  }
 ],
 "metadata": {
  "kernelspec": {
   "display_name": "Python 3 (ipykernel)",
   "language": "python",
   "name": "python3"
  },
  "language_info": {
   "codemirror_mode": {
    "name": "ipython",
    "version": 3
   },
   "file_extension": ".py",
   "mimetype": "text/x-python",
   "name": "python",
   "nbconvert_exporter": "python",
   "pygments_lexer": "ipython3",
   "version": "3.12.0"
  }
 },
 "nbformat": 4,
 "nbformat_minor": 5
}
